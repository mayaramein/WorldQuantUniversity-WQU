{
 "cells": [
  {
   "cell_type": "markdown",
   "metadata": {
    "id": "sQfsxvu2MrAc"
   },
   "source": [
    "MODULE 1 | LESSON 2\n",
    "# GOVERNMENT DATA"
   ]
  },
  {
   "cell_type": "markdown",
   "metadata": {
    "id": "aSW9-996Miww"
   },
   "source": [
    "|  |  |\n",
    "|:---|:---|\n",
    "|**Reading Time** | 2h  |\n",
    "|**Prior Knowledge** | matplotlib, python, bonds, interest rates, treasuries  |\n",
    "|**Keywords** | government data, Federal Reserve, FRED, API, CMT, Yield Curve, steepening, flattening, slope, level, curvature |\n",
    "\n",
    "---"
   ]
  },
  {
   "cell_type": "markdown",
   "metadata": {
    "id": "t6JWZbCYFhmI"
   },
   "source": [
    "*In this lesson, we cover government data, which forms the backbone of informed decision-making. We present some key characteristics and aspects of government data while emphasizing the importance of data openness. In Section 2, we focus on the yield curve, more specifically the Constant Maturity Treasury (CMT) yields. We visualize the various phases of a yield curve and examine its dynamics across time. Throughout the lesson, we characterize the yield curve using two fundamental factors: level and slope. This perspective will be invaluable as we progress through the subsequent lessons in this module.*"
   ]
  },
  {
   "cell_type": "markdown",
   "metadata": {
    "id": "72x6x7HzePI3"
   },
   "source": [
    "## **1. Economics and Financial Data**\n",
    "\n",
    "Asset prices are greatly influenced by what happens in the macroeconomy. A thriving business cycle invites equity investments, increases in personal spending, and perhaps actions taken by the central bank. In the first module of Financial Markets, you saw examples where depositors were earning a specific interest rate. At the same time, lenders (or borrowers) earned a different interest rate. Depositing money in a bank will surely earn less interest than the interest you would pay on a loan from the same bank!\n",
    "\n",
    "One of the biggest influences on markets in general, and interest rates in particular, is news. News can be thought of as expected or unexpected. Recall that efficient markets may have incorporated much of the expected news already. For example, suppose Netflix declares a \\$2.00 dividend. If this is indeed the amount that gets announced, then it comes as no surprise and should not affect Netflix's stock price. However, suppose there is unexpected news.\n",
    "\n",
    "- Netflix had stronger than anticipated growth due to underestimated popularity with certain shows, causing a larger than expected number of subscribers in Korea. The dividend is \\$2.40. The stock price will likely rally.\n",
    "- On the other hand, suppose Netflix had higher than expected costs for producing original content, causing net profits to drop. The dividend is only \\$1.80. The stock price will likely tumble.\n",
    "\n",
    "Unexpected news can be good or bad; that is, it may result in higher prices or lower prices, depending on the situation. For example, consider bad news. It can increase credit risk, threaten financing cash flows, create volatility, disrupt correlation, aggravate leverage, induce non-linearities, challenge model assumptions, stress models by incurring added costs for liquidity, promote model failure, and even bring about financial crises. Of course, one piece of bad news may not do all that, but what if the bad news affected many businesses, such as higher than expected interest rates?\n",
    "\n",
    "Let's examine how interest rates work. Investing in business affects interest rates, but simultaneously, interest rates affect business investments. Most relationships in finance are complex because they can be multi-directional. It's not just that A affects B and B affects A. It's that A affects B and C; B affects A and C; C affects A and B; and so on.\n",
    "\n",
    "For example, if we just collect interest rates and have no sense of monetary policy or money supply or economic decisions, we lose data that both affect interest rates and in turn are affected by those same rates. Indeed, we may want to collect associated data so that we can examine if other variables (e.g., Fed decisions) affect our variable of interest.\n",
    "\n",
    "## **2. The Federal Reserve and Its Impact**\n",
    "\n",
    "Recall from Financial Markets that we read about central banks. The Federal Reserve is the central bank in the United States. The Fed's output is vast: it includes decisions, research, and printed and spoken market commentaries. These findings are heavily watched and analyzed, as they significantly affect markets. For example, eight times a year, the Federal Reserve has regularly scheduled releases of decisions about interest rates. These meetings result in decisions about interest rates released to the market.\n",
    "\n",
    "Like any other information, this is news that can be expected or unexpected. If the news is expected, then that information is already priced in the market.  If the news is unexpected, then there are likely to be information shocks that cause market volatility. In addition, the Fed selects 8 other dates at which they release the minutes of the meetings. These releases contain qualitative rather than quantitative data. These releases can also affect not only interest rates but also stock trading, as they indicate the opinions and intended actions of the Fed. For example, in 2019, the Fed decided to cut interest rates three times. This led to a 29% increase in the S&P 500 during the 4th quarter of 2019.\n",
    "\n",
    "If we collected data during 2018 and then attempted to extrapolate, we would miss out on key events that affect data. Oftentimes, we need to understand key events that affect our data, as we might consider a data sample as information between those events.\n",
    "\n",
    "For example, if you construct a sample of equity data, you could collect daily equity closes, but when it comes to analyzing them, you could consider:\n",
    "1. no grouping\n",
    "2. 1 group per equity dividend announcement\n",
    "3. groups based on the level of the Fed Reserve rate\n",
    "4. 1 group per Fed fund meeting\n",
    "\n",
    "While the data collected may be the same, there is an acknowledgement that the data as a whole (example 1) may have different properties and can be better analyzed based on an intrinsic property of the company (example 2, earnings) or based on an extrinsic property, like monetary policy (examples 3 and 4). Understanding that our data experiences change means that we will want to understand markets as systems. It also means we may want to collect and analyze data that is qualitative (e.g., Fed statements)."
   ]
  },
  {
   "cell_type": "markdown",
   "metadata": {
    "id": "4tsZsezGth8R"
   },
   "source": [
    "## **3. What is Government Data?**\n",
    "\n",
    "Government data is all the information that is collected by government entities. This data include:\n",
    "\n",
    "* Economic Data (GDP, inflation, employment rates, etc.)\n",
    "\n",
    "* Demographic Data\n",
    "\n",
    "* Environmental Data\n",
    "\n",
    "* Health Data\n",
    "\n",
    "* Legal Data\n",
    "\n",
    "* Agriculture Data\n",
    "\n",
    "* Energy Data\n",
    "\n",
    "* Education Data\n",
    "\n",
    "* Real Estate Data\n",
    "\n",
    "and many more categories of data that a specific government may or may not choose to keep track of. The data above is **essential** for every decision-making mechanism incorporated by the government. For example, it is well established how economic data is important for monetary and fiscal policy or how health data helped the respective agencies in coordinating the healthcare system's response during the COVID-19 pandemic.\n",
    "\n",
    "In essence, this data serve as evidence-based governance and their holistic view enables governments to make decisions for the future of a country within a complex reality.\n",
    "\n",
    "### **3.1 Aspects of Government Data**\n",
    "\n",
    "As of now, we have seen the scope of government data, but there are other characteristics as well:\n",
    "\n",
    "* Volume: the volume of government data tends to be very large\n",
    "\n",
    "* Variety: many categories of structured and unstructured data\n",
    "\n",
    "* Authoritative: it is official (the same data is used for policymaking)\n",
    "\n",
    "* Timeliness: one can find real-time and historical data\n",
    "\n",
    "* Quality: there may be incomplete or inaccurate datasets\n",
    "\n",
    "* Format: data is saved in databases, files (CSV, JSON, etc.), reports, and other formats\n",
    "\n",
    "* Sensitivity/Accessibility: it may include personal information in which case it will be restricted\n",
    "\n",
    "* Metadata: the descriptions of the dataset serves as inventory for navigating the large volume of data\n",
    "\n",
    "Additionally, regarding the above characteristics, there has been a significant effort on behalf of several governments to implement transparency and openness in their data. These efforts gave rise to Open Government Data, which took the form of a movement that pushed many countries to provide public access to their data.\n",
    "\n",
    "### **3.2 Open Government Data**\n",
    "\n",
    "In 1966, the U.S. was the first to implement a policy for open data by establishing a legal framework called the \"Freedom of Information Act\" (FOIA). According to FOIA, any citizen can ask for public access to records from any federal agency. But this was \"reactive\" transparency since data was not open by default. The latter was only corrected in 2009 by the Open Government Directive, which mandated federal agencies to publish government information online and embrace open government policy. This was the decisive step from a \"reactive\" transparency to a \"proactive\" one where anyone could access public data without explicitly requesting to do so. The UK also launched its Open Data Initiative in 2010 followed by the EU Open Data Directive in 2019. Other countries like Canada, Australia, India, and Japan also implemented their respective open data policies.\n",
    "\n",
    "Here is the definition of Open Government Data as found in the [European Data Portal](https://data.europa.eu/en/dataeuropa-academy/what-open-data):\n",
    "\n",
    "*Open (Government) Data refers to the information collected, produced or paid for by the public bodies (also referred to as Public Sector Information) and made freely available for re-use for any purpose. The licence will specify the terms of use. These principles for Open Data are described in detail in the [Open Definition](https://opendefinition.org/).*\n",
    "\n",
    "This subset of government data will drive (in part) the datasets that you will use at WQU. These real-world datasets will help you develop practical skills in data analysis and modeling while giving insight into economic indicators and other factors that influence the economy. In summary, transparency in government data has enriched both WQU's content and the learning process in its entirety.\n",
    "\n",
    "### **3.3 Federal Reserve Economic Data (FRED)**\n",
    "\n",
    "A prime example of open government data in action is the Federal Reserve Economic Data (FRED). Currently, FRED stands out as one of the most comprehensive and accessible economic databases available to the public. The data is maintained by the Federal Reserve Bank of St. Louis and given special care, in accordance with the principles of openess, as a crucial resource for researchers, policymakers, students, and the general public.\n",
    "\n",
    "#### **3.3.1 Overview of FRED**\n",
    "\n",
    "FRED is a vast repository of economic time series data from various sources, not limited to the Federal Reserve System. It includes data from:\n",
    "\n",
    "* U.S. government agencies (e.g., Bureau of Labor Statistics, Bureau of Economic Analysis)\n",
    "\n",
    "* International organizations (e.g., World Bank, OECD)\n",
    "\n",
    "* Private sources (e.g., university research centers)\n",
    "\n",
    "The database covers a wide range of economic indicators, including:\n",
    "\n",
    "* Gross Domestic Product (GDP)\n",
    "* Inflation rates\n",
    "* Employment statistics\n",
    "* Interest rates\n",
    "* Exchange rates\n",
    "* Consumer and producer price indices\n",
    "* Monetary aggregates\n",
    "\n",
    "#### **3.3.2 Key Features of FRED**\n",
    "\n",
    "1.  Accessibility: FRED data is freely available through a user-friendly web interface, mobile apps, and API access.\n",
    "2.  Data Visualization: Users can create custom charts and graphs directly on the FRED website.\n",
    "3. Data Download: Data can be easily downloaded in various formats (e.g., Excel, CSV) for further analysis.\n",
    "4. Regular Updates: FRED is updated in real time as new data becomes available from its sources.\n",
    "5. Historical Data: Many series in FRED go back several decades, providing valuable historical context.\n",
    "6. Data Transformation: FRED allows users to perform basic transformations on data series, such as changing units or calculating percent changes.\n",
    "\n",
    "For the purposes of this lesson, we use the API gateway in order to make use of the statistical and visualization libraries of Python."
   ]
  },
  {
   "cell_type": "markdown",
   "metadata": {
    "id": "XoHBXHtQEX2B"
   },
   "source": [
    "## **4. Yield Curve**\n",
    "\n",
    "In this section, we will work with a specific type of yield curve called the Constant Maturity Treasury (CMT) yield curve. In Financial Markets, students already got an introduction to this subject, and we will be supplementing that material with a hands-on data workflow.\n",
    "\n",
    "The CMT yield curve is a snapshot of all U.S. Treasury yields at a given date. Essentially, the U.S. Treasury uses the closing market bid yields (which are based on the prices that buyers are willing to pay (bid) instead of the actual transaction prices) in order to calculate CMT rates on a daily basis. You can find the overview of the methodology that the Treasury uses [here](https://home.treasury.gov/policy-issues/financing-the-government/interest-rate-statistics/treasury-yield-curve-methodology).\n",
    "\n",
    "Conveniently, FRED has already performed these calculations and the CMT rates are freely available from their website or through the FRED API, which we can utilize through the `fredapi` Python library. In order to access the FRED data, every student must obtain an API key by following these steps:\n",
    "\n",
    "1. Visit the FRED website: https://fred.stlouisfed.org/docs/api/api_key.html. Click on \"Create an Account\" in the top right corner (if you do not already have an account with FRED).\n",
    "\n",
    "2. Log in to your FRED account and request an API key. Navigate to the \"API Keys\" selection of the \"My Account\" dropdown menu in the top right corner. Then, click on \"Request API Key.\""
   ]
  },
  {
   "cell_type": "code",
   "execution_count": null,
   "metadata": {
    "id": "8HoUMIl7EX2C",
    "tags": []
   },
   "outputs": [],
   "source": [
    "import pandas as pd\n",
    "from fredapi import Fred\n",
    "import matplotlib.pyplot as plt\n",
    "import seaborn as sns\n",
    "sns.set()"
   ]
  },
  {
   "cell_type": "code",
   "execution_count": null,
   "metadata": {
    "id": "GM-2KKVvEX2D",
    "tags": []
   },
   "outputs": [],
   "source": [
    "# Initialize the FRED API with your key\n",
    "fred = Fred(api_key='99b15e0a2f3b3f4571893e831fd555d0') # Replace my APIKEY with \"YOUR_API_KEY\"\n",
    "\n",
    "# List of Treasury yield series IDs\n",
    "series_ids = ['DGS1MO', 'DGS3MO', 'DGS6MO', 'DGS1', 'DGS2', 'DGS3', 'DGS5', \\\n",
    "              'DGS7', 'DGS10', 'DGS20', 'DGS30']\n",
    "\n",
    "# Function to get data for a single series\n",
    "def get_yield_data(series_id):\n",
    "    data = fred.get_series(series_id, observation_start=\"1975-01-01\", observation_end=\"2024-05-03\")\n",
    "    return data\n",
    "\n",
    "# Get data for all series\n",
    "yields_dict = {series_id: get_yield_data(series_id) for series_id in series_ids}\n",
    "\n",
    "# Combine into a single DataFrame\n",
    "yields = pd.DataFrame(yields_dict)\n",
    "\n",
    "# Rename columns for clarity\n",
    "yields.columns = ['1 Month', '3 Month', '6 Month', '1 Year', '2 Year', '3 Year', '5 Year', \\\n",
    "                  '7 Year', '10 Year', '20 Year', '30 Year']"
   ]
  },
  {
   "cell_type": "code",
   "execution_count": null,
   "metadata": {
    "colab": {
     "base_uri": "https://localhost:8080/",
     "height": 429
    },
    "executionInfo": {
     "elapsed": 6,
     "status": "ok",
     "timestamp": 1727859537594,
     "user": {
      "displayName": "Christos Koutkos",
      "userId": "05788829401179389824"
     },
     "user_tz": -180
    },
    "id": "f5nj5uiuEX2E",
    "outputId": "873c54c8-424c-41e7-9664-269890ea13a0",
    "tags": []
   },
   "outputs": [],
   "source": [
    "yields.index = pd.to_datetime(yields.index)\n",
    "yields.loc['2020-01-03']"
   ]
  },
  {
   "cell_type": "markdown",
   "metadata": {
    "id": "pYkAOdFlKAbt"
   },
   "source": [
    "The above dataframe contains one row of our dataset: all the CMT yields at a specific date.\n",
    "\n",
    "The yields are expressed as percentages. For example, the \"1 Month\" yield is at $1.52$, which means $1.52\\%$ or $0.0152$, and the precision with which the yields are presented is one basis point ($0.01\\%$)."
   ]
  },
  {
   "cell_type": "code",
   "execution_count": null,
   "metadata": {
    "colab": {
     "base_uri": "https://localhost:8080/",
     "height": 429
    },
    "executionInfo": {
     "elapsed": 394,
     "status": "ok",
     "timestamp": 1727859542451,
     "user": {
      "displayName": "Christos Koutkos",
      "userId": "05788829401179389824"
     },
     "user_tz": -180
    },
    "id": "g2fIpxNZyl4c",
    "outputId": "07d6c55e-86d5-4683-cc00-36d641898b81",
    "tags": []
   },
   "outputs": [],
   "source": [
    "yields.isna().sum(axis = 0)"
   ]
  },
  {
   "cell_type": "markdown",
   "metadata": {
    "id": "vkCqXwSsyi1A"
   },
   "source": [
    "The first thing we notice is the missing data. Some maturities such as the 1 month, 3 month, and 6 month were not tracked over time because before the 2000s, the focus was more on longer-term maturities. The 20-year bond had an irregular issuance history because from 1986 to 1993, 20-year T-bonds were not issued. The same applies to the 30-year maturity, which was discontinued from February 2002 to February 2006. Furthermore, a great deal of missing values, as one can see with the more liquid bonds like the 3-, 5-, 7-, and 10-year maturities, can be attributed to holidays and market disruptions."
   ]
  },
  {
   "cell_type": "code",
   "execution_count": null,
   "metadata": {
    "colab": {
     "base_uri": "https://localhost:8080/",
     "height": 429
    },
    "executionInfo": {
     "elapsed": 425,
     "status": "ok",
     "timestamp": 1727859550896,
     "user": {
      "displayName": "Christos Koutkos",
      "userId": "05788829401179389824"
     },
     "user_tz": -180
    },
    "id": "fZ1app0Svfff",
    "outputId": "2fd92305-e95a-4451-9bfd-3bd2fd9b0818",
    "tags": []
   },
   "outputs": [],
   "source": [
    "# We can see that during the days that the 10-year is not reported,\n",
    "# none maturity is reported as well.\n",
    "yields[yields['10 Year'].isna() == True].sum(axis = 0)"
   ]
  },
  {
   "cell_type": "markdown",
   "metadata": {
    "id": "_CraeZQE02Bh"
   },
   "source": [
    "Let's plot the yields for all the available dates. Even though our dataset becomes \"complete\" only after the 2000s, it is important to observe how rates evolved over time."
   ]
  },
  {
   "cell_type": "code",
   "execution_count": null,
   "metadata": {
    "colab": {
     "base_uri": "https://localhost:8080/",
     "height": 703
    },
    "executionInfo": {
     "elapsed": 4406,
     "status": "ok",
     "timestamp": 1727859564394,
     "user": {
      "displayName": "Christos Koutkos",
      "userId": "05788829401179389824"
     },
     "user_tz": -180
    },
    "id": "oYKNjfMqEX2G",
    "outputId": "d0c7c4e5-1024-49b7-9caa-eb9353f026cf",
    "tags": []
   },
   "outputs": [],
   "source": [
    "# Figure 1\n",
    "yields.plot(figsize=(12, 8), title='Treasury Yields', alpha=0.7) # Plot the yields\n",
    "plt.show()"
   ]
  },
  {
   "cell_type": "markdown",
   "metadata": {
    "id": "C70qjZ-OEX2H"
   },
   "source": [
    "**Exercise 1**\n",
    "\n",
    "List all the U.S. economic recessions post 1975. What do you observe about the rates during these recessions? Use the graph above to argue for how rates behave during economic downturns. In order to make things more clear, you can select one or two of the U.S. recessions and recreate the above graph just for the duration of the crisis (and a few years prior to and after the year of the crisis)."
   ]
  },
  {
   "cell_type": "markdown",
   "metadata": {
    "id": "05d_c2RXEX2H"
   },
   "source": [
    "Let's also visualize the interdependence between yields:"
   ]
  },
  {
   "cell_type": "code",
   "execution_count": null,
   "metadata": {
    "colab": {
     "base_uri": "https://localhost:8080/",
     "height": 1000
    },
    "executionInfo": {
     "elapsed": 47450,
     "status": "ok",
     "timestamp": 1727860590824,
     "user": {
      "displayName": "Christos Koutkos",
      "userId": "05788829401179389824"
     },
     "user_tz": -180
    },
    "id": "aNYfhQCrEX2H",
    "outputId": "edce87d6-8516-492a-b5a9-43ac96461761",
    "tags": []
   },
   "outputs": [],
   "source": [
    "# Figure 2\n",
    "sns.pairplot(yields.dropna(), diag_kind='kde') # Pairplot with KDE on the diagonal\n",
    "plt.suptitle(\"Pairwise Distribution and KDE of Daily Yield Data (2001-07-31 to 2024-05-03)\",\n",
    "             y=1.02, fontsize=26)\n",
    "plt.show()"
   ]
  },
  {
   "cell_type": "markdown",
   "metadata": {
    "id": "wGjJTbT8EX2I"
   },
   "source": [
    "The pairplot above displays the relationship between the U.S. Treasuries of different maturities. On the diagonal, we can see the kernel density estimation (KDE) of each yield while the off-diagonal plots show the scatterplots for each pair.\n",
    "\n",
    "The first thing we notice is that the KDEs of the yields are multimodal. This reflects the effect of various economic regimes, cycles, changes in policy, and significant events on the yields.\n",
    "\n",
    "Additionally, the scatterplots show strong positive correlations between the yields. More specifically, the yields whose maturities are close have perfect correlation (close to 1) whereas the far-away yields are still positively correlated even though not perfectly.\n",
    "\n",
    "Let's visualize the yields at a specific date:"
   ]
  },
  {
   "cell_type": "code",
   "execution_count": null,
   "metadata": {
    "id": "xdArD_N3EX2I",
    "outputId": "597962ab-ca53-4321-dfe9-dc480405c517",
    "tags": []
   },
   "outputs": [],
   "source": [
    "# Figure 3\n",
    "\n",
    "def plot_yield_curve(date):\n",
    "    maturities = ['1M', '3M', '6M', '1Y', '2Y', '3Y', '5Y', '7Y', '10Y', '20Y', '30Y'] # Maturities\n",
    "    fig, ax = plt.subplots(figsize=(12, 6))\n",
    "    ax.plot(maturities, yields.loc[date], marker='D', label='Yield Curve at ' + date)\n",
    "\n",
    "    ax.set_yticklabels(['{:.2f}%'.format(y) for y in ax.get_yticks()])\n",
    "    ax.set_xticks(range(len(maturities)))\n",
    "    ax.set_xticklabels(maturities)\n",
    "\n",
    "    # Add labels and title\n",
    "    ax.set_xlabel('Maturity')\n",
    "    ax.set_ylabel('Yield')\n",
    "    ax.set_title('Treasury Yield Curve')\n",
    "\n",
    "    fig.legend(loc = [0.69, 0.14])\n",
    "\n",
    "    # Show the plot\n",
    "    plt.grid(True)\n",
    "    plt.show()\n",
    "\n",
    "plot_yield_curve('2020-01-03')"
   ]
  },
  {
   "cell_type": "markdown",
   "metadata": {
    "id": "WLc-m2bPEX2J"
   },
   "source": [
    "**Exercise 2**\n",
    "\n",
    "The graph above shows all the yields at 2020-01-03. Find (one or two) specific dates that will help you recreate the above plot twice: once for a flattened curve and once for an inverted curve. Argue how the flat and inverted curves correspond to specific phases of Figure 1 (in several cases, the combined yield line plots look thin). Why do those dates matter?"
   ]
  },
  {
   "cell_type": "markdown",
   "metadata": {
    "id": "HFBlcwG7Qheh"
   },
   "source": [
    "### **4.1 The Shape of the Yield Curve**\n",
    "\n",
    "By examining Figure 3 along with the figures that you will have produced by now in answering Exercise 2, you have observed that the (most obvious) factors that define the shape of a yield curve are (Rebonato):\n",
    "1. The overall **level** of the yield curve, which translates into how high or how low interest rates are.\n",
    "2. The **slope** of the yield curve, which indicates how steep, flat, or inverted the curve is.\n",
    "\n",
    "Typically, we can explain about 90% of the variability of the curve through level and slope (Oprea). For a more thorough analysis, one would need to take into account:\n",
    "3. The **curvature**, which is a measure of how the middle of the curve (medium-term rates) behave in comparison to the short- and long-term rates.\n",
    "\n",
    "For the purposes of this lesson, we will emphasize the first two factors.\n",
    "\n",
    "#### **4.1.1 Level of the Curve**\n",
    "\n",
    "The level is associated with **parallel shifts** in the entire yield curve. In essence, it affects all bond prices regardless of maturity by (almost) the same magnitude. These *shifts* are driven by macroeconomic factors such as inflation, geopolitical events, changes in monetary policy, etc.\n",
    "\n",
    "We will examine the 1994 Bond Market Crash, also known as the Great Bond Massacre. The primary trigger of the bond crash was the Fed's decision to initiate a round of rate hikes. In February 1994, the Fed raised the funds rate from 3.00% to 3.25%. Over the course of the year, the Fed continued to raise rates incrementally, reaching 5.5% by February of 1995. The main driver behind the Fed's decision was inflation expectations due to the rapid economic expansion of 1993.\n",
    "\n",
    "Additionally, prior to 1994, the spread between the short-term and long-term rates was more than 4 percentage points, leading many investors in leveraged positions to borrow short term and invest in longer-term bonds. Naturally, the sudden rate hikes caught these investors (among others) off guard, forcing them to unwind their position, leading to a selloff in the bond market."
   ]
  },
  {
   "cell_type": "code",
   "execution_count": null,
   "metadata": {
    "colab": {
     "base_uri": "https://localhost:8080/",
     "height": 1000
    },
    "executionInfo": {
     "elapsed": 2808,
     "status": "ok",
     "timestamp": 1723976587551,
     "user": {
      "displayName": "Christos Koutkos",
      "userId": "05788829401179389824"
     },
     "user_tz": -180
    },
    "id": "wdZWWd59rGGu",
    "outputId": "99a975e6-b58f-4ef3-ca3c-baa7dd839a83",
    "tags": []
   },
   "outputs": [],
   "source": [
    "# Figure 4\n",
    "\n",
    "from matplotlib.gridspec import GridSpec\n",
    "\n",
    "# Preparing the data\n",
    "bond_market_crash = yields.loc['1994-01-03': '1994-11-30'].iloc[:,1:] * 100  # Convert yields to percentage\n",
    "resampled_monthly_bond_market_crash = bond_market_crash.resample('M').last()\n",
    "resampled_monthly_bond_market_crash_ticks = resampled_monthly_bond_market_crash.index.strftime('%Y-%m-%d')\n",
    "\n",
    "# Creating the plt object\n",
    "fig = plt.figure(figsize=(16, 12))\n",
    "gs = GridSpec(2, 2, height_ratios=[1, 1.5])\n",
    "\n",
    "# First row, first column\n",
    "ax1 = fig.add_subplot(gs[0, 0])\n",
    "ax1.plot(bond_market_crash, alpha=0.7)\n",
    "ax1.set_title('Treasury Yields across time - Graph 1')\n",
    "ax1.set_xlabel('Date')\n",
    "ax1.set_ylabel('Yield (%)')\n",
    "ax1.tick_params(axis='x', rotation=45)\n",
    "\n",
    "# First row, second column\n",
    "ax2 = fig.add_subplot(gs[0, 1])\n",
    "ax2.bar(resampled_monthly_bond_market_crash_ticks, resampled_monthly_bond_market_crash.mean(axis=1), alpha=0.7)\n",
    "ax2.set_title('Mean Yields across time - Graph 2')\n",
    "ax2.set_xlabel('Date')\n",
    "ax2.set_ylabel('Average Yield (%)')\n",
    "ax2.tick_params(axis='x', rotation=45)\n",
    "\n",
    "# Second row\n",
    "ax3 = fig.add_subplot(gs[1, :])\n",
    "for i in range(len(resampled_monthly_bond_market_crash)):\n",
    "    date = resampled_monthly_bond_market_crash_ticks[i]\n",
    "    resampled_monthly_bond_market_crash.iloc[i, :].plot(ax=ax3, alpha=0.7, label=date)\n",
    "\n",
    "ax3.set_title('Yield Curves at the end of each month - Graph 3')\n",
    "ax3.set_xlabel('Maturity')\n",
    "ax3.set_ylabel('Yield (%)')\n",
    "ax3.legend(title='Date', loc='center left', bbox_to_anchor=(1, 0.5))\n",
    "ax3.tick_params(axis='x', rotation=45)\n",
    "\n",
    "plt.tight_layout()\n",
    "plt.show()"
   ]
  },
  {
   "cell_type": "markdown",
   "metadata": {
    "id": "zX7xClp1rsxw"
   },
   "source": [
    "In Figure 4, one can see the consistent upward movement of the yields across all maturities. Specifically in Graph 3, we observe every yield curve at the end of each month during 1994 (the last day of each month was arbitrarily selected as a representative of the month). This is a prime example of a change in the level of the yields, where the entire curve is moving upwards each month while keeping its slope intact.\n",
    "\n",
    "#### **4.1.2 Slope of the Yield Curve**\n",
    "\n",
    "The slope of the yield curve typically refers to the difference in yields between the long-term and the short-term bonds. We often use the difference between the 10-year and the 2-year or between the 30-year and the 3-month bonds, but depending on the context, one can choose different maturities. The slope can be categorized into:\n",
    "1. A positive slope, also referred to as normal yield curve, which occurs when long-term yields are higher than the short-term ones. This is the \"normal\" scenario since we expect that the additional risk of holding long-term bonds should be compensated with higher returns than those of the short-term ones.\n",
    "2. A flat slope: short-term and long-term yields are similar.\n",
    "3. A negative slope, also referred to as inverted yield curve. It occurs when short-term yields are higher than long-term ones.\n",
    "\n",
    "As we have seen up until now, the slope can be easily seen in a yield curve graph. But what about the dynamics of slope changes?\n",
    "\n",
    "Let's assume we are in a position where the yield curve is normal. From this point, the slope can either steepen or flatten, and in each case, this can be done in multiple ways:\n",
    "1. Steepening\n",
    "  * Bull steepening: short-term rates fall faster than long-term rates\n",
    "  * Bear steepening: long-term rates increase faster than short-term rates\n",
    "2. Flattening\n",
    "  * Bull flattening: long-term rates fall faster than short-term rates\n",
    "  * Bear flattening: short-term rates increase faster than long-term rates\n",
    "\n",
    "In Figure 5, you can see a visual representation of the flattening dynamics of the curve."
   ]
  },
  {
   "cell_type": "code",
   "execution_count": null,
   "metadata": {
    "colab": {
     "base_uri": "https://localhost:8080/",
     "height": 559
    },
    "executionInfo": {
     "elapsed": 2316,
     "status": "ok",
     "timestamp": 1724015421859,
     "user": {
      "displayName": "Christos Koutkos",
      "userId": "05788829401179389824"
     },
     "user_tz": -180
    },
    "id": "0Nbf0kpPUuNn",
    "outputId": "8cfa0b53-e64f-4e56-dfb5-9df0d8977906",
    "tags": []
   },
   "outputs": [],
   "source": [
    "# Figure 5\n",
    "\n",
    "# Preparing the data\n",
    "bear_flattening = yields['2004-06-01':'2006-06-30'].resample('3M').last()\n",
    "bear_flattening.index = bear_flattening.index.strftime('%Y-%m-%d')\n",
    "\n",
    "bull_flattening = yields['2010-01-01':'2012-06-30'].resample('4M').last()\n",
    "bull_flattening.index = bull_flattening.index.strftime('%Y-%m-%d')\n",
    "\n",
    "# Creating the plt object\n",
    "fig, (ax1, ax2) = plt.subplots(1, 2, figsize=(16, 6))\n",
    "\n",
    "# Bear flattening graph\n",
    "for i in range(len(bear_flattening)):\n",
    "    date = bear_flattening.index[i]\n",
    "    ax1.plot(bear_flattening.columns, bear_flattening.iloc[i, :], alpha=0.7, label=date)\n",
    "ax1.set_title('Bear Flattening: 2004 - 2006')\n",
    "ax1.set_xlabel('Maturity')\n",
    "ax1.set_ylabel('Yield (%)')\n",
    "ax1.legend(title='Date', loc='center left', bbox_to_anchor=(1, 0.5))\n",
    "ax1.tick_params(axis='x', rotation=45)\n",
    "\n",
    "# Bull flattening graph\n",
    "for i in range(len(bull_flattening)):\n",
    "    date = bull_flattening.index[i]\n",
    "    ax2.plot(bull_flattening.columns, bull_flattening.iloc[i, :], alpha=0.7, label=date)\n",
    "ax2.set_title('Bull Flattening: 2010 - 2012')\n",
    "ax2.set_xlabel('Maturity')\n",
    "ax2.set_ylabel('Yield (%)')\n",
    "ax2.legend(title='Date', loc='center left', bbox_to_anchor=(1, 0.5))\n",
    "ax2.tick_params(axis='x', rotation=45)\n",
    "\n",
    "plt.tight_layout()\n",
    "plt.show()\n"
   ]
  },
  {
   "cell_type": "markdown",
   "metadata": {
    "id": "yvD9irRYX21E"
   },
   "source": [
    "**Exercise 3**\n",
    "\n",
    "Recreate Figure 5 to illustrate the bull and bear steepening. Find the periods that correspond to the steepening of the yield curve by searching online or in academic textbooks, and utilize the code provided to demonstrate the dynamics of the steepening. Make an argument about the economic conditions and the response of the Fed during these times. Paste the plot in the forum along with a small paragraph that explains what we see.\n",
    "\n",
    "**Exercise 4**\n",
    "\n",
    "Demonstrate the importance of the difference between 10-year and 2-year bonds. Create a double y-axis plot where you superimpose the S&P500 on the difference between the two bonds."
   ]
  },
  {
   "cell_type": "markdown",
   "metadata": {
    "id": "PRo2wFOGtwFg"
   },
   "source": [
    "## **5. Conclusion**\n",
    "\n",
    "Through hands-on analysis and visualization using Python and the FRED API, we examined the dynamics of the yield curve over time. We explored how factors such as the level and slope shape the yield curve and how these elements reflect and influence broader economic conditions.\n",
    "\n",
    "Key takeaways include:\n",
    "\n",
    "* The importance of open government data for research, policymaking, and public understanding of economic trends\n",
    "* The significance of the yield curve as an economic indicator, including its various shapes (normal, flat, and inverted) and what they may signify about economic expectations\n",
    "* The concepts of yield curve steepening and flattening and how these movements can be categorized as \"bull\" or \"bear\" depending on the underlying rate changes"
   ]
  },
  {
   "cell_type": "markdown",
   "metadata": {
    "id": "rKKS0keOFrc1"
   },
   "source": [
    "**References**\n",
    "\n",
    "* Rebonato, Riccardo. *Bond Pricing and Yield Curve Modeling: A Structural Approach*. Cambridge University Press, 2018.\n",
    "\n",
    "* Oprea, Andreea, *The Use of Principal Component Analysis (PCA) in Building Yield Curve Scenarios and Identifying Relative-Value Trading Opportunities on the Romanian Government Bond Market*, Journal of Risk and Financial Management, 2022, 15(6), 247\n",
    "\n"
   ]
  },
  {
   "cell_type": "markdown",
   "metadata": {
    "deletable": false,
    "editable": false,
    "id": "KvTOJQ-GFrc1"
   },
   "source": [
    "---\n",
    "Copyright 2024 WorldQuant University. This\n",
    "content is licensed solely for personal use. Redistribution or\n",
    "publication of this material is strictly prohibited.\n"
   ]
  }
 ],
 "metadata": {
  "colab": {
   "provenance": []
  },
  "kernelspec": {
   "display_name": "Python 3 (ipykernel)",
   "language": "python",
   "name": "python3"
  },
  "language_info": {
   "codemirror_mode": {
    "name": "ipython",
    "version": 3
   },
   "file_extension": ".py",
   "mimetype": "text/x-python",
   "name": "python",
   "nbconvert_exporter": "python",
   "pygments_lexer": "ipython3",
   "version": "3.11.0"
  }
 },
 "nbformat": 4,
 "nbformat_minor": 4
}
